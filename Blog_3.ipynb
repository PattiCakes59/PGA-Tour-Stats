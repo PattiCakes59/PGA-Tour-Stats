{
 "cells": [
  {
   "cell_type": "code",
   "execution_count": 1,
   "metadata": {},
   "outputs": [],
   "source": [
    "import pandas as pd\n",
    "import numpy as np\n",
    "import seaborn as sns\n",
    "import matplotlib.pyplot as plt\n",
    "import statsmodels.api as sm\n",
    "\n",
    "from sklearn.model_selection import train_test_split\n",
    "from sklearn.preprocessing import OneHotEncoder \n",
    "from sklearn.metrics import r2_score, mean_absolute_error, mean_squared_error\n",
    "from sklearn.preprocessing import StandardScaler"
   ]
  },
  {
   "cell_type": "code",
   "execution_count": 2,
   "metadata": {},
   "outputs": [
    {
     "name": "stdout",
     "output_type": "stream",
     "text": [
      "Blog_3.ipynb     Untitled1.ipynb  \u001b[34mdata\u001b[m\u001b[m/\r\n",
      "Untitled.ipynb   Untitled2.ipynb\r\n"
     ]
    }
   ],
   "source": [
    "ls"
   ]
  },
  {
   "cell_type": "code",
   "execution_count": 3,
   "metadata": {},
   "outputs": [],
   "source": [
    "putt = pd.read_csv('data/AvgStrkGainPutt21.csv', encoding='latin1')\n",
    "tee = pd.read_csv('data/AvgStrkGainTee21.csv', encoding='latin1')\n",
    "score = pd.read_csv('data/ScoringAvg21.csv', encoding='latin1')"
   ]
  },
  {
   "cell_type": "markdown",
   "metadata": {},
   "source": [
    "# Exploring the Data"
   ]
  },
  {
   "cell_type": "markdown",
   "metadata": {},
   "source": [
    "### 2021 Putting Statistics\n",
    " - Strokes gained from putting:\n",
    "  1. Total\n",
    "  2. Average"
   ]
  },
  {
   "cell_type": "code",
   "execution_count": 4,
   "metadata": {},
   "outputs": [
    {
     "data": {
      "text/html": [
       "<div>\n",
       "<style scoped>\n",
       "    .dataframe tbody tr th:only-of-type {\n",
       "        vertical-align: middle;\n",
       "    }\n",
       "\n",
       "    .dataframe tbody tr th {\n",
       "        vertical-align: top;\n",
       "    }\n",
       "\n",
       "    .dataframe thead th {\n",
       "        text-align: right;\n",
       "    }\n",
       "</style>\n",
       "<table border=\"1\" class=\"dataframe\">\n",
       "  <thead>\n",
       "    <tr style=\"text-align: right;\">\n",
       "      <th></th>\n",
       "      <th>Name</th>\n",
       "      <th>Avg_SG_Putt</th>\n",
       "      <th>Total_SG_Putt</th>\n",
       "    </tr>\n",
       "  </thead>\n",
       "  <tbody>\n",
       "    <tr>\n",
       "      <th>0</th>\n",
       "      <td>Louis Oosthuizen</td>\n",
       "      <td>0.764</td>\n",
       "      <td>45.852</td>\n",
       "    </tr>\n",
       "    <tr>\n",
       "      <th>1</th>\n",
       "      <td>J.T. Poston</td>\n",
       "      <td>0.706</td>\n",
       "      <td>55.768</td>\n",
       "    </tr>\n",
       "    <tr>\n",
       "      <th>2</th>\n",
       "      <td>Ian Poulter</td>\n",
       "      <td>0.695</td>\n",
       "      <td>38.241</td>\n",
       "    </tr>\n",
       "    <tr>\n",
       "      <th>3</th>\n",
       "      <td>Patrick Reed</td>\n",
       "      <td>0.669</td>\n",
       "      <td>44.154</td>\n",
       "    </tr>\n",
       "    <tr>\n",
       "      <th>4</th>\n",
       "      <td>Zach Johnson</td>\n",
       "      <td>0.667</td>\n",
       "      <td>50.655</td>\n",
       "    </tr>\n",
       "  </tbody>\n",
       "</table>\n",
       "</div>"
      ],
      "text/plain": [
       "               Name  Avg_SG_Putt  Total_SG_Putt\n",
       "0  Louis Oosthuizen        0.764         45.852\n",
       "1       J.T. Poston        0.706         55.768\n",
       "2       Ian Poulter        0.695         38.241\n",
       "3      Patrick Reed        0.669         44.154\n",
       "4      Zach Johnson        0.667         50.655"
      ]
     },
     "execution_count": 4,
     "metadata": {},
     "output_type": "execute_result"
    }
   ],
   "source": [
    "putt.head()"
   ]
  },
  {
   "cell_type": "code",
   "execution_count": 5,
   "metadata": {},
   "outputs": [
    {
     "name": "stdout",
     "output_type": "stream",
     "text": [
      "<class 'pandas.core.frame.DataFrame'>\n",
      "RangeIndex: 196 entries, 0 to 195\n",
      "Data columns (total 3 columns):\n",
      " #   Column         Non-Null Count  Dtype  \n",
      "---  ------         --------------  -----  \n",
      " 0   Name           196 non-null    object \n",
      " 1   Avg_SG_Putt    196 non-null    float64\n",
      " 2   Total_SG_Putt  196 non-null    float64\n",
      "dtypes: float64(2), object(1)\n",
      "memory usage: 4.7+ KB\n"
     ]
    }
   ],
   "source": [
    "putt.info()"
   ]
  },
  {
   "cell_type": "code",
   "execution_count": 6,
   "metadata": {},
   "outputs": [
    {
     "data": {
      "text/plain": [
       "Name             0\n",
       "Avg_SG_Putt      0\n",
       "Total_SG_Putt    0\n",
       "dtype: int64"
      ]
     },
     "execution_count": 6,
     "metadata": {},
     "output_type": "execute_result"
    }
   ],
   "source": [
    "putt.isnull().sum()"
   ]
  },
  {
   "cell_type": "code",
   "execution_count": 7,
   "metadata": {
    "scrolled": true
   },
   "outputs": [
    {
     "data": {
      "text/html": [
       "<div>\n",
       "<style scoped>\n",
       "    .dataframe tbody tr th:only-of-type {\n",
       "        vertical-align: middle;\n",
       "    }\n",
       "\n",
       "    .dataframe tbody tr th {\n",
       "        vertical-align: top;\n",
       "    }\n",
       "\n",
       "    .dataframe thead th {\n",
       "        text-align: right;\n",
       "    }\n",
       "</style>\n",
       "<table border=\"1\" class=\"dataframe\">\n",
       "  <thead>\n",
       "    <tr style=\"text-align: right;\">\n",
       "      <th></th>\n",
       "      <th>Avg_SG_Putt</th>\n",
       "      <th>Total_SG_Putt</th>\n",
       "    </tr>\n",
       "  </thead>\n",
       "  <tbody>\n",
       "    <tr>\n",
       "      <th>count</th>\n",
       "      <td>196.000000</td>\n",
       "      <td>196.000000</td>\n",
       "    </tr>\n",
       "    <tr>\n",
       "      <th>mean</th>\n",
       "      <td>0.027469</td>\n",
       "      <td>2.861658</td>\n",
       "    </tr>\n",
       "    <tr>\n",
       "      <th>std</th>\n",
       "      <td>0.352788</td>\n",
       "      <td>22.470854</td>\n",
       "    </tr>\n",
       "    <tr>\n",
       "      <th>min</th>\n",
       "      <td>-1.261000</td>\n",
       "      <td>-60.672000</td>\n",
       "    </tr>\n",
       "    <tr>\n",
       "      <th>25%</th>\n",
       "      <td>-0.193500</td>\n",
       "      <td>-11.483500</td>\n",
       "    </tr>\n",
       "    <tr>\n",
       "      <th>50%</th>\n",
       "      <td>0.055000</td>\n",
       "      <td>3.742500</td>\n",
       "    </tr>\n",
       "    <tr>\n",
       "      <th>75%</th>\n",
       "      <td>0.292250</td>\n",
       "      <td>19.509000</td>\n",
       "    </tr>\n",
       "    <tr>\n",
       "      <th>max</th>\n",
       "      <td>0.764000</td>\n",
       "      <td>55.768000</td>\n",
       "    </tr>\n",
       "  </tbody>\n",
       "</table>\n",
       "</div>"
      ],
      "text/plain": [
       "       Avg_SG_Putt  Total_SG_Putt\n",
       "count   196.000000     196.000000\n",
       "mean      0.027469       2.861658\n",
       "std       0.352788      22.470854\n",
       "min      -1.261000     -60.672000\n",
       "25%      -0.193500     -11.483500\n",
       "50%       0.055000       3.742500\n",
       "75%       0.292250      19.509000\n",
       "max       0.764000      55.768000"
      ]
     },
     "execution_count": 7,
     "metadata": {},
     "output_type": "execute_result"
    }
   ],
   "source": [
    "putt.describe()"
   ]
  },
  {
   "cell_type": "code",
   "execution_count": 8,
   "metadata": {},
   "outputs": [
    {
     "data": {
      "text/plain": [
       "(196, 3)"
      ]
     },
     "execution_count": 8,
     "metadata": {},
     "output_type": "execute_result"
    }
   ],
   "source": [
    "putt.shape"
   ]
  },
  {
   "cell_type": "markdown",
   "metadata": {},
   "source": [
    "### Tee Statistics\n",
    " - Strokes gained from the golfers tee shot:\n",
    "  1. Average\n",
    "  2. Total"
   ]
  },
  {
   "cell_type": "code",
   "execution_count": 9,
   "metadata": {},
   "outputs": [
    {
     "data": {
      "text/html": [
       "<div>\n",
       "<style scoped>\n",
       "    .dataframe tbody tr th:only-of-type {\n",
       "        vertical-align: middle;\n",
       "    }\n",
       "\n",
       "    .dataframe tbody tr th {\n",
       "        vertical-align: top;\n",
       "    }\n",
       "\n",
       "    .dataframe thead th {\n",
       "        text-align: right;\n",
       "    }\n",
       "</style>\n",
       "<table border=\"1\" class=\"dataframe\">\n",
       "  <thead>\n",
       "    <tr style=\"text-align: right;\">\n",
       "      <th></th>\n",
       "      <th>Name</th>\n",
       "      <th>Avg_SG_Tee</th>\n",
       "      <th>Total_SG_Tee</th>\n",
       "    </tr>\n",
       "  </thead>\n",
       "  <tbody>\n",
       "    <tr>\n",
       "      <th>0</th>\n",
       "      <td>Bryson DeChambeau</td>\n",
       "      <td>1.162</td>\n",
       "      <td>78.987</td>\n",
       "    </tr>\n",
       "    <tr>\n",
       "      <th>1</th>\n",
       "      <td>Jon Rahm</td>\n",
       "      <td>0.834</td>\n",
       "      <td>53.366</td>\n",
       "    </tr>\n",
       "    <tr>\n",
       "      <th>2</th>\n",
       "      <td>Sergio Garcia</td>\n",
       "      <td>0.796</td>\n",
       "      <td>54.102</td>\n",
       "    </tr>\n",
       "    <tr>\n",
       "      <th>3</th>\n",
       "      <td>Rory McIlroy</td>\n",
       "      <td>0.660</td>\n",
       "      <td>41.575</td>\n",
       "    </tr>\n",
       "    <tr>\n",
       "      <th>4</th>\n",
       "      <td>Viktor Hovland</td>\n",
       "      <td>0.656</td>\n",
       "      <td>45.929</td>\n",
       "    </tr>\n",
       "  </tbody>\n",
       "</table>\n",
       "</div>"
      ],
      "text/plain": [
       "                Name  Avg_SG_Tee  Total_SG_Tee\n",
       "0  Bryson DeChambeau       1.162        78.987\n",
       "1           Jon Rahm       0.834        53.366\n",
       "2      Sergio Garcia       0.796        54.102\n",
       "3       Rory McIlroy       0.660        41.575\n",
       "4     Viktor Hovland       0.656        45.929"
      ]
     },
     "execution_count": 9,
     "metadata": {},
     "output_type": "execute_result"
    }
   ],
   "source": [
    "tee.head()"
   ]
  },
  {
   "cell_type": "code",
   "execution_count": 10,
   "metadata": {},
   "outputs": [
    {
     "name": "stdout",
     "output_type": "stream",
     "text": [
      "<class 'pandas.core.frame.DataFrame'>\n",
      "RangeIndex: 196 entries, 0 to 195\n",
      "Data columns (total 3 columns):\n",
      " #   Column        Non-Null Count  Dtype  \n",
      "---  ------        --------------  -----  \n",
      " 0   Name          196 non-null    object \n",
      " 1   Avg_SG_Tee    196 non-null    float64\n",
      " 2   Total_SG_Tee  196 non-null    float64\n",
      "dtypes: float64(2), object(1)\n",
      "memory usage: 4.7+ KB\n"
     ]
    }
   ],
   "source": [
    "tee.info()"
   ]
  },
  {
   "cell_type": "code",
   "execution_count": 11,
   "metadata": {},
   "outputs": [
    {
     "data": {
      "text/plain": [
       "Name            0\n",
       "Avg_SG_Tee      0\n",
       "Total_SG_Tee    0\n",
       "dtype: int64"
      ]
     },
     "execution_count": 11,
     "metadata": {},
     "output_type": "execute_result"
    }
   ],
   "source": [
    "tee.isnull().sum()"
   ]
  },
  {
   "cell_type": "code",
   "execution_count": 12,
   "metadata": {},
   "outputs": [
    {
     "data": {
      "text/html": [
       "<div>\n",
       "<style scoped>\n",
       "    .dataframe tbody tr th:only-of-type {\n",
       "        vertical-align: middle;\n",
       "    }\n",
       "\n",
       "    .dataframe tbody tr th {\n",
       "        vertical-align: top;\n",
       "    }\n",
       "\n",
       "    .dataframe thead th {\n",
       "        text-align: right;\n",
       "    }\n",
       "</style>\n",
       "<table border=\"1\" class=\"dataframe\">\n",
       "  <thead>\n",
       "    <tr style=\"text-align: right;\">\n",
       "      <th></th>\n",
       "      <th>Avg_SG_Tee</th>\n",
       "      <th>Total_SG_Tee</th>\n",
       "    </tr>\n",
       "  </thead>\n",
       "  <tbody>\n",
       "    <tr>\n",
       "      <th>count</th>\n",
       "      <td>196.000000</td>\n",
       "      <td>196.000000</td>\n",
       "    </tr>\n",
       "    <tr>\n",
       "      <th>mean</th>\n",
       "      <td>0.030071</td>\n",
       "      <td>3.432179</td>\n",
       "    </tr>\n",
       "    <tr>\n",
       "      <th>std</th>\n",
       "      <td>0.340138</td>\n",
       "      <td>20.976374</td>\n",
       "    </tr>\n",
       "    <tr>\n",
       "      <th>min</th>\n",
       "      <td>-1.247000</td>\n",
       "      <td>-67.323000</td>\n",
       "    </tr>\n",
       "    <tr>\n",
       "      <th>25%</th>\n",
       "      <td>-0.139750</td>\n",
       "      <td>-8.348250</td>\n",
       "    </tr>\n",
       "    <tr>\n",
       "      <th>50%</th>\n",
       "      <td>0.040500</td>\n",
       "      <td>2.263000</td>\n",
       "    </tr>\n",
       "    <tr>\n",
       "      <th>75%</th>\n",
       "      <td>0.240500</td>\n",
       "      <td>15.736750</td>\n",
       "    </tr>\n",
       "    <tr>\n",
       "      <th>max</th>\n",
       "      <td>1.162000</td>\n",
       "      <td>78.987000</td>\n",
       "    </tr>\n",
       "  </tbody>\n",
       "</table>\n",
       "</div>"
      ],
      "text/plain": [
       "       Avg_SG_Tee  Total_SG_Tee\n",
       "count  196.000000    196.000000\n",
       "mean     0.030071      3.432179\n",
       "std      0.340138     20.976374\n",
       "min     -1.247000    -67.323000\n",
       "25%     -0.139750     -8.348250\n",
       "50%      0.040500      2.263000\n",
       "75%      0.240500     15.736750\n",
       "max      1.162000     78.987000"
      ]
     },
     "execution_count": 12,
     "metadata": {},
     "output_type": "execute_result"
    }
   ],
   "source": [
    "tee.describe()"
   ]
  },
  {
   "cell_type": "code",
   "execution_count": 13,
   "metadata": {},
   "outputs": [
    {
     "data": {
      "text/plain": [
       "(196, 3)"
      ]
     },
     "execution_count": 13,
     "metadata": {},
     "output_type": "execute_result"
    }
   ],
   "source": [
    "tee.shape"
   ]
  },
  {
   "cell_type": "markdown",
   "metadata": {},
   "source": [
    "## Scoring Average\n",
    " - Average score per round."
   ]
  },
  {
   "cell_type": "code",
   "execution_count": 14,
   "metadata": {},
   "outputs": [
    {
     "data": {
      "text/html": [
       "<div>\n",
       "<style scoped>\n",
       "    .dataframe tbody tr th:only-of-type {\n",
       "        vertical-align: middle;\n",
       "    }\n",
       "\n",
       "    .dataframe tbody tr th {\n",
       "        vertical-align: top;\n",
       "    }\n",
       "\n",
       "    .dataframe thead th {\n",
       "        text-align: right;\n",
       "    }\n",
       "</style>\n",
       "<table border=\"1\" class=\"dataframe\">\n",
       "  <thead>\n",
       "    <tr style=\"text-align: right;\">\n",
       "      <th></th>\n",
       "      <th>Name</th>\n",
       "      <th>Scoring_Avg</th>\n",
       "    </tr>\n",
       "  </thead>\n",
       "  <tbody>\n",
       "    <tr>\n",
       "      <th>0</th>\n",
       "      <td>Jon Rahm</td>\n",
       "      <td>69.30</td>\n",
       "    </tr>\n",
       "    <tr>\n",
       "      <th>1</th>\n",
       "      <td>Dustin Johnson</td>\n",
       "      <td>69.62</td>\n",
       "    </tr>\n",
       "    <tr>\n",
       "      <th>2</th>\n",
       "      <td>Louis Oosthuizen</td>\n",
       "      <td>69.71</td>\n",
       "    </tr>\n",
       "    <tr>\n",
       "      <th>3</th>\n",
       "      <td>Bryson DeChambeau</td>\n",
       "      <td>69.73</td>\n",
       "    </tr>\n",
       "    <tr>\n",
       "      <th>4</th>\n",
       "      <td>Patrick Cantlay</td>\n",
       "      <td>69.74</td>\n",
       "    </tr>\n",
       "  </tbody>\n",
       "</table>\n",
       "</div>"
      ],
      "text/plain": [
       "                Name  Scoring_Avg\n",
       "0           Jon Rahm        69.30\n",
       "1     Dustin Johnson        69.62\n",
       "2   Louis Oosthuizen        69.71\n",
       "3  Bryson DeChambeau        69.73\n",
       "4    Patrick Cantlay        69.74"
      ]
     },
     "execution_count": 14,
     "metadata": {},
     "output_type": "execute_result"
    }
   ],
   "source": [
    "score.head()"
   ]
  },
  {
   "cell_type": "code",
   "execution_count": 15,
   "metadata": {},
   "outputs": [
    {
     "name": "stdout",
     "output_type": "stream",
     "text": [
      "<class 'pandas.core.frame.DataFrame'>\n",
      "RangeIndex: 196 entries, 0 to 195\n",
      "Data columns (total 2 columns):\n",
      " #   Column       Non-Null Count  Dtype  \n",
      "---  ------       --------------  -----  \n",
      " 0   Name         196 non-null    object \n",
      " 1   Scoring_Avg  196 non-null    float64\n",
      "dtypes: float64(1), object(1)\n",
      "memory usage: 3.2+ KB\n"
     ]
    }
   ],
   "source": [
    "score.info()"
   ]
  },
  {
   "cell_type": "code",
   "execution_count": 16,
   "metadata": {},
   "outputs": [
    {
     "data": {
      "text/plain": [
       "Name           0\n",
       "Scoring_Avg    0\n",
       "dtype: int64"
      ]
     },
     "execution_count": 16,
     "metadata": {},
     "output_type": "execute_result"
    }
   ],
   "source": [
    "score.isnull().sum()"
   ]
  },
  {
   "cell_type": "code",
   "execution_count": 17,
   "metadata": {},
   "outputs": [
    {
     "data": {
      "text/plain": [
       "(196, 2)"
      ]
     },
     "execution_count": 17,
     "metadata": {},
     "output_type": "execute_result"
    }
   ],
   "source": [
    "score.shape"
   ]
  },
  {
   "cell_type": "code",
   "execution_count": 18,
   "metadata": {},
   "outputs": [
    {
     "data": {
      "text/html": [
       "<div>\n",
       "<style scoped>\n",
       "    .dataframe tbody tr th:only-of-type {\n",
       "        vertical-align: middle;\n",
       "    }\n",
       "\n",
       "    .dataframe tbody tr th {\n",
       "        vertical-align: top;\n",
       "    }\n",
       "\n",
       "    .dataframe thead th {\n",
       "        text-align: right;\n",
       "    }\n",
       "</style>\n",
       "<table border=\"1\" class=\"dataframe\">\n",
       "  <thead>\n",
       "    <tr style=\"text-align: right;\">\n",
       "      <th></th>\n",
       "      <th>Scoring_Avg</th>\n",
       "    </tr>\n",
       "  </thead>\n",
       "  <tbody>\n",
       "    <tr>\n",
       "      <th>count</th>\n",
       "      <td>196.000000</td>\n",
       "    </tr>\n",
       "    <tr>\n",
       "      <th>mean</th>\n",
       "      <td>71.075816</td>\n",
       "    </tr>\n",
       "    <tr>\n",
       "      <th>std</th>\n",
       "      <td>0.727508</td>\n",
       "    </tr>\n",
       "    <tr>\n",
       "      <th>min</th>\n",
       "      <td>69.300000</td>\n",
       "    </tr>\n",
       "    <tr>\n",
       "      <th>25%</th>\n",
       "      <td>70.577500</td>\n",
       "    </tr>\n",
       "    <tr>\n",
       "      <th>50%</th>\n",
       "      <td>71.075000</td>\n",
       "    </tr>\n",
       "    <tr>\n",
       "      <th>75%</th>\n",
       "      <td>71.562500</td>\n",
       "    </tr>\n",
       "    <tr>\n",
       "      <th>max</th>\n",
       "      <td>73.200000</td>\n",
       "    </tr>\n",
       "  </tbody>\n",
       "</table>\n",
       "</div>"
      ],
      "text/plain": [
       "       Scoring_Avg\n",
       "count   196.000000\n",
       "mean     71.075816\n",
       "std       0.727508\n",
       "min      69.300000\n",
       "25%      70.577500\n",
       "50%      71.075000\n",
       "75%      71.562500\n",
       "max      73.200000"
      ]
     },
     "execution_count": 18,
     "metadata": {},
     "output_type": "execute_result"
    }
   ],
   "source": [
    "score.describe()"
   ]
  },
  {
   "cell_type": "markdown",
   "metadata": {},
   "source": [
    "### Merging Dataframes\n",
    " - Combing the data frames under the column, Name."
   ]
  },
  {
   "cell_type": "code",
   "execution_count": 19,
   "metadata": {},
   "outputs": [],
   "source": [
    "df = putt.merge(tee,on='Name').merge(score,on='Name')"
   ]
  },
  {
   "cell_type": "markdown",
   "metadata": {},
   "source": [
    "#### Checking out the new dataframe."
   ]
  },
  {
   "cell_type": "code",
   "execution_count": 20,
   "metadata": {},
   "outputs": [
    {
     "data": {
      "text/html": [
       "<div>\n",
       "<style scoped>\n",
       "    .dataframe tbody tr th:only-of-type {\n",
       "        vertical-align: middle;\n",
       "    }\n",
       "\n",
       "    .dataframe tbody tr th {\n",
       "        vertical-align: top;\n",
       "    }\n",
       "\n",
       "    .dataframe thead th {\n",
       "        text-align: right;\n",
       "    }\n",
       "</style>\n",
       "<table border=\"1\" class=\"dataframe\">\n",
       "  <thead>\n",
       "    <tr style=\"text-align: right;\">\n",
       "      <th></th>\n",
       "      <th>Name</th>\n",
       "      <th>Avg_SG_Putt</th>\n",
       "      <th>Total_SG_Putt</th>\n",
       "      <th>Avg_SG_Tee</th>\n",
       "      <th>Total_SG_Tee</th>\n",
       "      <th>Scoring_Avg</th>\n",
       "    </tr>\n",
       "  </thead>\n",
       "  <tbody>\n",
       "    <tr>\n",
       "      <th>0</th>\n",
       "      <td>Louis Oosthuizen</td>\n",
       "      <td>0.764</td>\n",
       "      <td>45.852</td>\n",
       "      <td>0.023</td>\n",
       "      <td>1.368</td>\n",
       "      <td>69.71</td>\n",
       "    </tr>\n",
       "    <tr>\n",
       "      <th>1</th>\n",
       "      <td>J.T. Poston</td>\n",
       "      <td>0.706</td>\n",
       "      <td>55.768</td>\n",
       "      <td>-0.131</td>\n",
       "      <td>-10.311</td>\n",
       "      <td>71.22</td>\n",
       "    </tr>\n",
       "    <tr>\n",
       "      <th>2</th>\n",
       "      <td>Ian Poulter</td>\n",
       "      <td>0.695</td>\n",
       "      <td>38.241</td>\n",
       "      <td>-0.079</td>\n",
       "      <td>-4.350</td>\n",
       "      <td>70.22</td>\n",
       "    </tr>\n",
       "    <tr>\n",
       "      <th>3</th>\n",
       "      <td>Patrick Reed</td>\n",
       "      <td>0.669</td>\n",
       "      <td>44.154</td>\n",
       "      <td>-0.003</td>\n",
       "      <td>-0.182</td>\n",
       "      <td>70.04</td>\n",
       "    </tr>\n",
       "    <tr>\n",
       "      <th>4</th>\n",
       "      <td>Zach Johnson</td>\n",
       "      <td>0.667</td>\n",
       "      <td>50.655</td>\n",
       "      <td>-0.215</td>\n",
       "      <td>-16.322</td>\n",
       "      <td>70.40</td>\n",
       "    </tr>\n",
       "  </tbody>\n",
       "</table>\n",
       "</div>"
      ],
      "text/plain": [
       "               Name  Avg_SG_Putt  Total_SG_Putt  Avg_SG_Tee  Total_SG_Tee  \\\n",
       "0  Louis Oosthuizen        0.764         45.852       0.023         1.368   \n",
       "1       J.T. Poston        0.706         55.768      -0.131       -10.311   \n",
       "2       Ian Poulter        0.695         38.241      -0.079        -4.350   \n",
       "3      Patrick Reed        0.669         44.154      -0.003        -0.182   \n",
       "4      Zach Johnson        0.667         50.655      -0.215       -16.322   \n",
       "\n",
       "   Scoring_Avg  \n",
       "0        69.71  \n",
       "1        71.22  \n",
       "2        70.22  \n",
       "3        70.04  \n",
       "4        70.40  "
      ]
     },
     "execution_count": 20,
     "metadata": {},
     "output_type": "execute_result"
    }
   ],
   "source": [
    "df.head()"
   ]
  },
  {
   "cell_type": "code",
   "execution_count": 21,
   "metadata": {},
   "outputs": [
    {
     "name": "stdout",
     "output_type": "stream",
     "text": [
      "<class 'pandas.core.frame.DataFrame'>\n",
      "Int64Index: 196 entries, 0 to 195\n",
      "Data columns (total 6 columns):\n",
      " #   Column         Non-Null Count  Dtype  \n",
      "---  ------         --------------  -----  \n",
      " 0   Name           196 non-null    object \n",
      " 1   Avg_SG_Putt    196 non-null    float64\n",
      " 2   Total_SG_Putt  196 non-null    float64\n",
      " 3   Avg_SG_Tee     196 non-null    float64\n",
      " 4   Total_SG_Tee   196 non-null    float64\n",
      " 5   Scoring_Avg    196 non-null    float64\n",
      "dtypes: float64(5), object(1)\n",
      "memory usage: 10.7+ KB\n"
     ]
    }
   ],
   "source": [
    "df.info()"
   ]
  },
  {
   "cell_type": "code",
   "execution_count": 22,
   "metadata": {},
   "outputs": [
    {
     "data": {
      "text/plain": [
       "Name             0\n",
       "Avg_SG_Putt      0\n",
       "Total_SG_Putt    0\n",
       "Avg_SG_Tee       0\n",
       "Total_SG_Tee     0\n",
       "Scoring_Avg      0\n",
       "dtype: int64"
      ]
     },
     "execution_count": 22,
     "metadata": {},
     "output_type": "execute_result"
    }
   ],
   "source": [
    "df.isnull().sum()"
   ]
  },
  {
   "cell_type": "code",
   "execution_count": 23,
   "metadata": {},
   "outputs": [
    {
     "data": {
      "text/html": [
       "<div>\n",
       "<style scoped>\n",
       "    .dataframe tbody tr th:only-of-type {\n",
       "        vertical-align: middle;\n",
       "    }\n",
       "\n",
       "    .dataframe tbody tr th {\n",
       "        vertical-align: top;\n",
       "    }\n",
       "\n",
       "    .dataframe thead th {\n",
       "        text-align: right;\n",
       "    }\n",
       "</style>\n",
       "<table border=\"1\" class=\"dataframe\">\n",
       "  <thead>\n",
       "    <tr style=\"text-align: right;\">\n",
       "      <th></th>\n",
       "      <th>Avg_SG_Putt</th>\n",
       "      <th>Total_SG_Putt</th>\n",
       "      <th>Avg_SG_Tee</th>\n",
       "      <th>Total_SG_Tee</th>\n",
       "      <th>Scoring_Avg</th>\n",
       "    </tr>\n",
       "  </thead>\n",
       "  <tbody>\n",
       "    <tr>\n",
       "      <th>count</th>\n",
       "      <td>196.000000</td>\n",
       "      <td>196.000000</td>\n",
       "      <td>196.000000</td>\n",
       "      <td>196.000000</td>\n",
       "      <td>196.000000</td>\n",
       "    </tr>\n",
       "    <tr>\n",
       "      <th>mean</th>\n",
       "      <td>0.027469</td>\n",
       "      <td>2.861658</td>\n",
       "      <td>0.030071</td>\n",
       "      <td>3.432179</td>\n",
       "      <td>71.075816</td>\n",
       "    </tr>\n",
       "    <tr>\n",
       "      <th>std</th>\n",
       "      <td>0.352788</td>\n",
       "      <td>22.470854</td>\n",
       "      <td>0.340138</td>\n",
       "      <td>20.976374</td>\n",
       "      <td>0.727508</td>\n",
       "    </tr>\n",
       "    <tr>\n",
       "      <th>min</th>\n",
       "      <td>-1.261000</td>\n",
       "      <td>-60.672000</td>\n",
       "      <td>-1.247000</td>\n",
       "      <td>-67.323000</td>\n",
       "      <td>69.300000</td>\n",
       "    </tr>\n",
       "    <tr>\n",
       "      <th>25%</th>\n",
       "      <td>-0.193500</td>\n",
       "      <td>-11.483500</td>\n",
       "      <td>-0.139750</td>\n",
       "      <td>-8.348250</td>\n",
       "      <td>70.577500</td>\n",
       "    </tr>\n",
       "    <tr>\n",
       "      <th>50%</th>\n",
       "      <td>0.055000</td>\n",
       "      <td>3.742500</td>\n",
       "      <td>0.040500</td>\n",
       "      <td>2.263000</td>\n",
       "      <td>71.075000</td>\n",
       "    </tr>\n",
       "    <tr>\n",
       "      <th>75%</th>\n",
       "      <td>0.292250</td>\n",
       "      <td>19.509000</td>\n",
       "      <td>0.240500</td>\n",
       "      <td>15.736750</td>\n",
       "      <td>71.562500</td>\n",
       "    </tr>\n",
       "    <tr>\n",
       "      <th>max</th>\n",
       "      <td>0.764000</td>\n",
       "      <td>55.768000</td>\n",
       "      <td>1.162000</td>\n",
       "      <td>78.987000</td>\n",
       "      <td>73.200000</td>\n",
       "    </tr>\n",
       "  </tbody>\n",
       "</table>\n",
       "</div>"
      ],
      "text/plain": [
       "       Avg_SG_Putt  Total_SG_Putt  Avg_SG_Tee  Total_SG_Tee  Scoring_Avg\n",
       "count   196.000000     196.000000  196.000000    196.000000   196.000000\n",
       "mean      0.027469       2.861658    0.030071      3.432179    71.075816\n",
       "std       0.352788      22.470854    0.340138     20.976374     0.727508\n",
       "min      -1.261000     -60.672000   -1.247000    -67.323000    69.300000\n",
       "25%      -0.193500     -11.483500   -0.139750     -8.348250    70.577500\n",
       "50%       0.055000       3.742500    0.040500      2.263000    71.075000\n",
       "75%       0.292250      19.509000    0.240500     15.736750    71.562500\n",
       "max       0.764000      55.768000    1.162000     78.987000    73.200000"
      ]
     },
     "execution_count": 23,
     "metadata": {},
     "output_type": "execute_result"
    }
   ],
   "source": [
    "df.describe()"
   ]
  },
  {
   "cell_type": "code",
   "execution_count": 24,
   "metadata": {},
   "outputs": [
    {
     "data": {
      "text/plain": [
       "(196, 6)"
      ]
     },
     "execution_count": 24,
     "metadata": {},
     "output_type": "execute_result"
    }
   ],
   "source": [
    "df.shape"
   ]
  },
  {
   "cell_type": "code",
   "execution_count": 25,
   "metadata": {},
   "outputs": [],
   "source": [
    "X = df.drop(columns='Scoring_Avg')\n",
    "y = df['Scoring_Avg']"
   ]
  },
  {
   "cell_type": "code",
   "execution_count": 26,
   "metadata": {},
   "outputs": [],
   "source": [
    "X_train, X_test,y_train, y_test = train_test_split(X, y, test_size = 0.2, random_state= 42)"
   ]
  },
  {
   "cell_type": "code",
   "execution_count": 27,
   "metadata": {},
   "outputs": [
    {
     "name": "stdout",
     "output_type": "stream",
     "text": [
      "X_train:\n"
     ]
    },
    {
     "data": {
      "text/html": [
       "<div>\n",
       "<style scoped>\n",
       "    .dataframe tbody tr th:only-of-type {\n",
       "        vertical-align: middle;\n",
       "    }\n",
       "\n",
       "    .dataframe tbody tr th {\n",
       "        vertical-align: top;\n",
       "    }\n",
       "\n",
       "    .dataframe thead th {\n",
       "        text-align: right;\n",
       "    }\n",
       "</style>\n",
       "<table border=\"1\" class=\"dataframe\">\n",
       "  <thead>\n",
       "    <tr style=\"text-align: right;\">\n",
       "      <th></th>\n",
       "      <th>Avg_SG_Putt</th>\n",
       "      <th>Total_SG_Putt</th>\n",
       "      <th>Avg_SG_Tee</th>\n",
       "      <th>Total_SG_Tee</th>\n",
       "    </tr>\n",
       "  </thead>\n",
       "  <tbody>\n",
       "    <tr>\n",
       "      <th>count</th>\n",
       "      <td>156.000000</td>\n",
       "      <td>156.000000</td>\n",
       "      <td>156.000000</td>\n",
       "      <td>156.000000</td>\n",
       "    </tr>\n",
       "    <tr>\n",
       "      <th>mean</th>\n",
       "      <td>0.025910</td>\n",
       "      <td>2.744827</td>\n",
       "      <td>0.035929</td>\n",
       "      <td>3.538532</td>\n",
       "    </tr>\n",
       "    <tr>\n",
       "      <th>std</th>\n",
       "      <td>0.364957</td>\n",
       "      <td>22.973476</td>\n",
       "      <td>0.311296</td>\n",
       "      <td>19.634311</td>\n",
       "    </tr>\n",
       "    <tr>\n",
       "      <th>min</th>\n",
       "      <td>-1.261000</td>\n",
       "      <td>-60.672000</td>\n",
       "      <td>-0.891000</td>\n",
       "      <td>-43.107000</td>\n",
       "    </tr>\n",
       "    <tr>\n",
       "      <th>25%</th>\n",
       "      <td>-0.211750</td>\n",
       "      <td>-12.432750</td>\n",
       "      <td>-0.134000</td>\n",
       "      <td>-7.299000</td>\n",
       "    </tr>\n",
       "    <tr>\n",
       "      <th>50%</th>\n",
       "      <td>0.052000</td>\n",
       "      <td>3.619000</td>\n",
       "      <td>0.053500</td>\n",
       "      <td>3.120500</td>\n",
       "    </tr>\n",
       "    <tr>\n",
       "      <th>75%</th>\n",
       "      <td>0.309750</td>\n",
       "      <td>20.172500</td>\n",
       "      <td>0.226750</td>\n",
       "      <td>14.960750</td>\n",
       "    </tr>\n",
       "    <tr>\n",
       "      <th>max</th>\n",
       "      <td>0.764000</td>\n",
       "      <td>55.768000</td>\n",
       "      <td>0.834000</td>\n",
       "      <td>59.481000</td>\n",
       "    </tr>\n",
       "  </tbody>\n",
       "</table>\n",
       "</div>"
      ],
      "text/plain": [
       "       Avg_SG_Putt  Total_SG_Putt  Avg_SG_Tee  Total_SG_Tee\n",
       "count   156.000000     156.000000  156.000000    156.000000\n",
       "mean      0.025910       2.744827    0.035929      3.538532\n",
       "std       0.364957      22.973476    0.311296     19.634311\n",
       "min      -1.261000     -60.672000   -0.891000    -43.107000\n",
       "25%      -0.211750     -12.432750   -0.134000     -7.299000\n",
       "50%       0.052000       3.619000    0.053500      3.120500\n",
       "75%       0.309750      20.172500    0.226750     14.960750\n",
       "max       0.764000      55.768000    0.834000     59.481000"
      ]
     },
     "metadata": {},
     "output_type": "display_data"
    },
    {
     "name": "stdout",
     "output_type": "stream",
     "text": [
      "X_test:\n"
     ]
    },
    {
     "data": {
      "text/html": [
       "<div>\n",
       "<style scoped>\n",
       "    .dataframe tbody tr th:only-of-type {\n",
       "        vertical-align: middle;\n",
       "    }\n",
       "\n",
       "    .dataframe tbody tr th {\n",
       "        vertical-align: top;\n",
       "    }\n",
       "\n",
       "    .dataframe thead th {\n",
       "        text-align: right;\n",
       "    }\n",
       "</style>\n",
       "<table border=\"1\" class=\"dataframe\">\n",
       "  <thead>\n",
       "    <tr style=\"text-align: right;\">\n",
       "      <th></th>\n",
       "      <th>Avg_SG_Putt</th>\n",
       "      <th>Total_SG_Putt</th>\n",
       "      <th>Avg_SG_Tee</th>\n",
       "      <th>Total_SG_Tee</th>\n",
       "    </tr>\n",
       "  </thead>\n",
       "  <tbody>\n",
       "    <tr>\n",
       "      <th>count</th>\n",
       "      <td>40.000000</td>\n",
       "      <td>40.000000</td>\n",
       "      <td>40.000000</td>\n",
       "      <td>40.000000</td>\n",
       "    </tr>\n",
       "    <tr>\n",
       "      <th>mean</th>\n",
       "      <td>0.033550</td>\n",
       "      <td>3.317300</td>\n",
       "      <td>0.007225</td>\n",
       "      <td>3.017400</td>\n",
       "    </tr>\n",
       "    <tr>\n",
       "      <th>std</th>\n",
       "      <td>0.304777</td>\n",
       "      <td>20.660093</td>\n",
       "      <td>0.438933</td>\n",
       "      <td>25.839499</td>\n",
       "    </tr>\n",
       "    <tr>\n",
       "      <th>min</th>\n",
       "      <td>-0.608000</td>\n",
       "      <td>-42.777000</td>\n",
       "      <td>-1.247000</td>\n",
       "      <td>-67.323000</td>\n",
       "    </tr>\n",
       "    <tr>\n",
       "      <th>25%</th>\n",
       "      <td>-0.161250</td>\n",
       "      <td>-9.078250</td>\n",
       "      <td>-0.161250</td>\n",
       "      <td>-9.936000</td>\n",
       "    </tr>\n",
       "    <tr>\n",
       "      <th>50%</th>\n",
       "      <td>0.065000</td>\n",
       "      <td>4.956500</td>\n",
       "      <td>0.007000</td>\n",
       "      <td>0.401000</td>\n",
       "    </tr>\n",
       "    <tr>\n",
       "      <th>75%</th>\n",
       "      <td>0.214000</td>\n",
       "      <td>14.731250</td>\n",
       "      <td>0.267250</td>\n",
       "      <td>18.189250</td>\n",
       "    </tr>\n",
       "    <tr>\n",
       "      <th>max</th>\n",
       "      <td>0.573000</td>\n",
       "      <td>39.520000</td>\n",
       "      <td>1.162000</td>\n",
       "      <td>78.987000</td>\n",
       "    </tr>\n",
       "  </tbody>\n",
       "</table>\n",
       "</div>"
      ],
      "text/plain": [
       "       Avg_SG_Putt  Total_SG_Putt  Avg_SG_Tee  Total_SG_Tee\n",
       "count    40.000000      40.000000   40.000000     40.000000\n",
       "mean      0.033550       3.317300    0.007225      3.017400\n",
       "std       0.304777      20.660093    0.438933     25.839499\n",
       "min      -0.608000     -42.777000   -1.247000    -67.323000\n",
       "25%      -0.161250      -9.078250   -0.161250     -9.936000\n",
       "50%       0.065000       4.956500    0.007000      0.401000\n",
       "75%       0.214000      14.731250    0.267250     18.189250\n",
       "max       0.573000      39.520000    1.162000     78.987000"
      ]
     },
     "metadata": {},
     "output_type": "display_data"
    }
   ],
   "source": [
    "print('X_train:')\n",
    "display(X_train.describe())\n",
    "print('X_test:')\n",
    "display(X_test.describe())"
   ]
  },
  {
   "cell_type": "markdown",
   "metadata": {},
   "source": [
    "## Baseline Score to Compare\n",
    " - This is our average score that is our target."
   ]
  },
  {
   "cell_type": "code",
   "execution_count": 28,
   "metadata": {},
   "outputs": [
    {
     "data": {
      "text/plain": [
       "71.08025641025641"
      ]
     },
     "execution_count": 28,
     "metadata": {},
     "output_type": "execute_result"
    }
   ],
   "source": [
    "train_target_mean = y_train.mean()\n",
    "train_target_mean"
   ]
  },
  {
   "cell_type": "code",
   "execution_count": 29,
   "metadata": {},
   "outputs": [
    {
     "data": {
      "text/plain": [
       "<seaborn.axisgrid.PairGrid at 0x7f9d5b0b5700>"
      ]
     },
     "execution_count": 29,
     "metadata": {},
     "output_type": "execute_result"
    },
    {
     "data": {
      "image/png": "[encoded data removed]",
      "text/plain": [
       "<Figure size 900x900 with 30 Axes>"
      ]
     },
     "metadata": {
      "needs_background": "light"
     },
     "output_type": "display_data"
    }
   ],
   "source": [
    "# Create train dataframe by merging X and y train sets\n",
    "train_df = pd.concat([X_train, y_train], axis = 1)\n",
    "\n",
    "# Visualize the overview of the dataframe \n",
    "# Use pairplot from seaborn\n",
    "sns.pairplot(train_df)"
   ]
  },
  {
   "cell_type": "code",
   "execution_count": 30,
   "metadata": {},
   "outputs": [
    {
     "data": {
      "text/plain": [
       "<AxesSubplot:>"
      ]
     },
     "execution_count": 30,
     "metadata": {},
     "output_type": "execute_result"
    },
    {
     "data": {
      "image/png": "[encoded data removed]",
      "text/plain": [
       "<Figure size 1080x1080 with 2 Axes>"
      ]
     },
     "metadata": {
      "needs_background": "light"
     },
     "output_type": "display_data"
    }
   ],
   "source": [
    "plt.figure(figsize = (15,15))\n",
    "sns.heatmap(X_train.corr().abs(), annot = True, fmt='.2f')"
   ]
  },
  {
   "cell_type": "code",
   "execution_count": 31,
   "metadata": {},
   "outputs": [
    {
     "data": {
      "text/plain": [
       "<AxesSubplot:>"
      ]
     },
     "execution_count": 31,
     "metadata": {},
     "output_type": "execute_result"
    },
    {
     "data": {
      "image/png": "[encoded data removed]",
      "text/plain": [
       "<Figure size 432x288 with 2 Axes>"
      ]
     },
     "metadata": {
      "needs_background": "light"
     },
     "output_type": "display_data"
    }
   ],
   "source": [
    "sns.heatmap(train_df.corr()[['Scoring_Avg']].abs(),annot=True)"
   ]
  },
  {
   "cell_type": "code",
   "execution_count": 32,
   "metadata": {},
   "outputs": [],
   "source": [
    "train_df2 = train_df.copy()"
   ]
  },
  {
   "cell_type": "code",
   "execution_count": 33,
   "metadata": {},
   "outputs": [
    {
     "data": {
      "text/html": [
       "<div>\n",
       "<style scoped>\n",
       "    .dataframe tbody tr th:only-of-type {\n",
       "        vertical-align: middle;\n",
       "    }\n",
       "\n",
       "    .dataframe tbody tr th {\n",
       "        vertical-align: top;\n",
       "    }\n",
       "\n",
       "    .dataframe thead th {\n",
       "        text-align: right;\n",
       "    }\n",
       "</style>\n",
       "<table border=\"1\" class=\"dataframe\">\n",
       "  <thead>\n",
       "    <tr style=\"text-align: right;\">\n",
       "      <th></th>\n",
       "      <th>Avg_SG_Putt</th>\n",
       "      <th>Total_SG_Putt</th>\n",
       "      <th>Avg_SG_Tee</th>\n",
       "      <th>Total_SG_Tee</th>\n",
       "      <th>Scoring_Avg</th>\n",
       "    </tr>\n",
       "  </thead>\n",
       "  <tbody>\n",
       "    <tr>\n",
       "      <th>count</th>\n",
       "      <td>156.000000</td>\n",
       "      <td>156.000000</td>\n",
       "      <td>156.000000</td>\n",
       "      <td>156.000000</td>\n",
       "      <td>156.000000</td>\n",
       "    </tr>\n",
       "    <tr>\n",
       "      <th>mean</th>\n",
       "      <td>0.025910</td>\n",
       "      <td>2.744827</td>\n",
       "      <td>0.035929</td>\n",
       "      <td>3.538532</td>\n",
       "      <td>71.080256</td>\n",
       "    </tr>\n",
       "    <tr>\n",
       "      <th>std</th>\n",
       "      <td>0.364957</td>\n",
       "      <td>22.973476</td>\n",
       "      <td>0.311296</td>\n",
       "      <td>19.634311</td>\n",
       "      <td>0.727943</td>\n",
       "    </tr>\n",
       "    <tr>\n",
       "      <th>min</th>\n",
       "      <td>-1.261000</td>\n",
       "      <td>-60.672000</td>\n",
       "      <td>-0.891000</td>\n",
       "      <td>-43.107000</td>\n",
       "      <td>69.300000</td>\n",
       "    </tr>\n",
       "    <tr>\n",
       "      <th>25%</th>\n",
       "      <td>-0.211750</td>\n",
       "      <td>-12.432750</td>\n",
       "      <td>-0.134000</td>\n",
       "      <td>-7.299000</td>\n",
       "      <td>70.590000</td>\n",
       "    </tr>\n",
       "    <tr>\n",
       "      <th>50%</th>\n",
       "      <td>0.052000</td>\n",
       "      <td>3.619000</td>\n",
       "      <td>0.053500</td>\n",
       "      <td>3.120500</td>\n",
       "      <td>71.075000</td>\n",
       "    </tr>\n",
       "    <tr>\n",
       "      <th>75%</th>\n",
       "      <td>0.309750</td>\n",
       "      <td>20.172500</td>\n",
       "      <td>0.226750</td>\n",
       "      <td>14.960750</td>\n",
       "      <td>71.500000</td>\n",
       "    </tr>\n",
       "    <tr>\n",
       "      <th>max</th>\n",
       "      <td>0.764000</td>\n",
       "      <td>55.768000</td>\n",
       "      <td>0.834000</td>\n",
       "      <td>59.481000</td>\n",
       "      <td>73.200000</td>\n",
       "    </tr>\n",
       "  </tbody>\n",
       "</table>\n",
       "</div>"
      ],
      "text/plain": [
       "       Avg_SG_Putt  Total_SG_Putt  Avg_SG_Tee  Total_SG_Tee  Scoring_Avg\n",
       "count   156.000000     156.000000  156.000000    156.000000   156.000000\n",
       "mean      0.025910       2.744827    0.035929      3.538532    71.080256\n",
       "std       0.364957      22.973476    0.311296     19.634311     0.727943\n",
       "min      -1.261000     -60.672000   -0.891000    -43.107000    69.300000\n",
       "25%      -0.211750     -12.432750   -0.134000     -7.299000    70.590000\n",
       "50%       0.052000       3.619000    0.053500      3.120500    71.075000\n",
       "75%       0.309750      20.172500    0.226750     14.960750    71.500000\n",
       "max       0.764000      55.768000    0.834000     59.481000    73.200000"
      ]
     },
     "execution_count": 33,
     "metadata": {},
     "output_type": "execute_result"
    }
   ],
   "source": [
    "train_df2.describe()"
   ]
  },
  {
   "cell_type": "code",
   "execution_count": 34,
   "metadata": {},
   "outputs": [
    {
     "data": {
      "text/plain": [
       "Index(['Name', 'Avg_SG_Putt', 'Total_SG_Putt', 'Avg_SG_Tee', 'Total_SG_Tee',\n",
       "       'Scoring_Avg'],\n",
       "      dtype='object')"
      ]
     },
     "execution_count": 34,
     "metadata": {},
     "output_type": "execute_result"
    }
   ],
   "source": [
    "train_df2.columns"
   ]
  },
  {
   "cell_type": "code",
   "execution_count": 35,
   "metadata": {},
   "outputs": [
    {
     "data": {
      "text/html": [
       "<div>\n",
       "<style scoped>\n",
       "    .dataframe tbody tr th:only-of-type {\n",
       "        vertical-align: middle;\n",
       "    }\n",
       "\n",
       "    .dataframe tbody tr th {\n",
       "        vertical-align: top;\n",
       "    }\n",
       "\n",
       "    .dataframe thead th {\n",
       "        text-align: right;\n",
       "    }\n",
       "</style>\n",
       "<table border=\"1\" class=\"dataframe\">\n",
       "  <thead>\n",
       "    <tr style=\"text-align: right;\">\n",
       "      <th></th>\n",
       "      <th>Name</th>\n",
       "      <th>Avg_SG_Putt</th>\n",
       "      <th>Avg_SG_Tee</th>\n",
       "      <th>Scoring_Avg</th>\n",
       "    </tr>\n",
       "  </thead>\n",
       "  <tbody>\n",
       "    <tr>\n",
       "      <th>5</th>\n",
       "      <td>Jason Kokrak</td>\n",
       "      <td>0.628</td>\n",
       "      <td>0.352</td>\n",
       "      <td>70.37</td>\n",
       "    </tr>\n",
       "    <tr>\n",
       "      <th>65</th>\n",
       "      <td>Rory McIlroy</td>\n",
       "      <td>0.187</td>\n",
       "      <td>0.660</td>\n",
       "      <td>70.04</td>\n",
       "    </tr>\n",
       "    <tr>\n",
       "      <th>136</th>\n",
       "      <td>Lucas Glover</td>\n",
       "      <td>-0.141</td>\n",
       "      <td>0.185</td>\n",
       "      <td>70.86</td>\n",
       "    </tr>\n",
       "    <tr>\n",
       "      <th>97</th>\n",
       "      <td>Sam Ryder</td>\n",
       "      <td>0.056</td>\n",
       "      <td>-0.019</td>\n",
       "      <td>71.19</td>\n",
       "    </tr>\n",
       "    <tr>\n",
       "      <th>168</th>\n",
       "      <td>Jason Dufner</td>\n",
       "      <td>-0.392</td>\n",
       "      <td>0.165</td>\n",
       "      <td>71.25</td>\n",
       "    </tr>\n",
       "  </tbody>\n",
       "</table>\n",
       "</div>"
      ],
      "text/plain": [
       "             Name  Avg_SG_Putt  Avg_SG_Tee  Scoring_Avg\n",
       "5    Jason Kokrak        0.628       0.352        70.37\n",
       "65   Rory McIlroy        0.187       0.660        70.04\n",
       "136  Lucas Glover       -0.141       0.185        70.86\n",
       "97      Sam Ryder        0.056      -0.019        71.19\n",
       "168  Jason Dufner       -0.392       0.165        71.25"
      ]
     },
     "execution_count": 35,
     "metadata": {},
     "output_type": "execute_result"
    }
   ],
   "source": [
    "train_df2 = train_df2.drop(columns=['Total_SG_Putt', 'Total_SG_Tee'])\n",
    "train_df2.head()"
   ]
  },
  {
   "cell_type": "code",
   "execution_count": 36,
   "metadata": {},
   "outputs": [
    {
     "data": {
      "text/plain": [
       "<seaborn.axisgrid.PairGrid at 0x7f9d5cf741f0>"
      ]
     },
     "execution_count": 36,
     "metadata": {},
     "output_type": "execute_result"
    },
    {
     "data": {
      "image/png": "[encoded data removed]",
      "text/plain": [
       "<Figure size 540x540 with 12 Axes>"
      ]
     },
     "metadata": {
      "needs_background": "light"
     },
     "output_type": "display_data"
    }
   ],
   "source": [
    "sns.pairplot(train_df2)"
   ]
  },
  {
   "cell_type": "code",
   "execution_count": 37,
   "metadata": {},
   "outputs": [],
   "source": [
    "X_train = train_df2\n",
    "y_train = train_df2['Scoring_Avg']"
   ]
  },
  {
   "cell_type": "code",
   "execution_count": 38,
   "metadata": {},
   "outputs": [
    {
     "data": {
      "text/html": [
       "<div>\n",
       "<style scoped>\n",
       "    .dataframe tbody tr th:only-of-type {\n",
       "        vertical-align: middle;\n",
       "    }\n",
       "\n",
       "    .dataframe tbody tr th {\n",
       "        vertical-align: top;\n",
       "    }\n",
       "\n",
       "    .dataframe thead th {\n",
       "        text-align: right;\n",
       "    }\n",
       "</style>\n",
       "<table border=\"1\" class=\"dataframe\">\n",
       "  <thead>\n",
       "    <tr style=\"text-align: right;\">\n",
       "      <th></th>\n",
       "      <th>Name</th>\n",
       "      <th>Avg_SG_Putt</th>\n",
       "      <th>Avg_SG_Tee</th>\n",
       "      <th>Scoring_Avg</th>\n",
       "    </tr>\n",
       "  </thead>\n",
       "  <tbody>\n",
       "    <tr>\n",
       "      <th>5</th>\n",
       "      <td>Jason Kokrak</td>\n",
       "      <td>0.628</td>\n",
       "      <td>0.352</td>\n",
       "      <td>70.37</td>\n",
       "    </tr>\n",
       "    <tr>\n",
       "      <th>65</th>\n",
       "      <td>Rory McIlroy</td>\n",
       "      <td>0.187</td>\n",
       "      <td>0.660</td>\n",
       "      <td>70.04</td>\n",
       "    </tr>\n",
       "    <tr>\n",
       "      <th>136</th>\n",
       "      <td>Lucas Glover</td>\n",
       "      <td>-0.141</td>\n",
       "      <td>0.185</td>\n",
       "      <td>70.86</td>\n",
       "    </tr>\n",
       "    <tr>\n",
       "      <th>97</th>\n",
       "      <td>Sam Ryder</td>\n",
       "      <td>0.056</td>\n",
       "      <td>-0.019</td>\n",
       "      <td>71.19</td>\n",
       "    </tr>\n",
       "    <tr>\n",
       "      <th>168</th>\n",
       "      <td>Jason Dufner</td>\n",
       "      <td>-0.392</td>\n",
       "      <td>0.165</td>\n",
       "      <td>71.25</td>\n",
       "    </tr>\n",
       "  </tbody>\n",
       "</table>\n",
       "</div>"
      ],
      "text/plain": [
       "             Name  Avg_SG_Putt  Avg_SG_Tee  Scoring_Avg\n",
       "5    Jason Kokrak        0.628       0.352        70.37\n",
       "65   Rory McIlroy        0.187       0.660        70.04\n",
       "136  Lucas Glover       -0.141       0.185        70.86\n",
       "97      Sam Ryder        0.056      -0.019        71.19\n",
       "168  Jason Dufner       -0.392       0.165        71.25"
      ]
     },
     "execution_count": 38,
     "metadata": {},
     "output_type": "execute_result"
    }
   ],
   "source": [
    "X_train.head()"
   ]
  },
  {
   "cell_type": "code",
   "execution_count": 41,
   "metadata": {},
   "outputs": [],
   "source": [
    "def fit_n_run(xtr, ytr):\n",
    "    '''\n",
    "    This function runs fits and runs the model for the variable input with the X_train, y_train and returns model summary \n",
    "    Input:\n",
    "    xtr: X_training set\n",
    "    y_tr: y_training set\n",
    "    \n",
    "    Output:\n",
    "    Model Summary\n",
    "    '''\n",
    "    model = sm.OLS(ytr, sm.add_constant(xtr)).fit()\n",
    "    print(model.summary())"
   ]
  },
  {
   "cell_type": "markdown",
   "metadata": {},
   "source": [
    "## Modeling"
   ]
  },
  {
   "cell_type": "markdown",
   "metadata": {},
   "source": [
    "### <u>Model 1</u>\n",
    " - Average strokes gained putting."
   ]
  },
  {
   "cell_type": "code",
   "execution_count": 57,
   "metadata": {
    "scrolled": false
   },
   "outputs": [
    {
     "name": "stdout",
     "output_type": "stream",
     "text": [
      "                            OLS Regression Results                            \n",
      "==============================================================================\n",
      "Dep. Variable:            Scoring_Avg   R-squared:                       0.164\n",
      "Model:                            OLS   Adj. R-squared:                  0.158\n",
      "Method:                 Least Squares   F-statistic:                     30.15\n",
      "Date:                Tue, 02 Nov 2021   Prob (F-statistic):           1.62e-07\n",
      "Time:                        11:54:18   Log-Likelihood:                -157.37\n",
      "No. Observations:                 156   AIC:                             318.7\n",
      "Df Residuals:                     154   BIC:                             324.8\n",
      "Df Model:                           1                                         \n",
      "Covariance Type:            nonrobust                                         \n",
      "===============================================================================\n",
      "                  coef    std err          t      P>|t|      [0.025      0.975]\n",
      "-------------------------------------------------------------------------------\n",
      "const          71.1012      0.054   1326.350      0.000      70.995      71.207\n",
      "Avg_SG_Putt    -0.8070      0.147     -5.491      0.000      -1.097      -0.517\n",
      "==============================================================================\n",
      "Omnibus:                       16.212   Durbin-Watson:                   2.061\n",
      "Prob(Omnibus):                  0.000   Jarque-Bera (JB):               21.328\n",
      "Skew:                           0.629   Prob(JB):                     2.34e-05\n",
      "Kurtosis:                       4.304   Cond. No.                         2.75\n",
      "==============================================================================\n",
      "\n",
      "Notes:\n",
      "[1] Standard Errors assume that the covariance matrix of the errors is correctly specified.\n"
     ]
    }
   ],
   "source": [
    "fit_n_run(X_train['Avg_SG_Putt'], y_train)"
   ]
  },
  {
   "cell_type": "markdown",
   "metadata": {},
   "source": [
    "### <u>Model 2</u>\n",
    " - Average strokes gained from the tee."
   ]
  },
  {
   "cell_type": "code",
   "execution_count": 45,
   "metadata": {
    "scrolled": false
   },
   "outputs": [
    {
     "name": "stdout",
     "output_type": "stream",
     "text": [
      "                            OLS Regression Results                            \n",
      "==============================================================================\n",
      "Dep. Variable:            Scoring_Avg   R-squared:                       0.296\n",
      "Model:                            OLS   Adj. R-squared:                  0.291\n",
      "Method:                 Least Squares   F-statistic:                     64.76\n",
      "Date:                Tue, 02 Nov 2021   Prob (F-statistic):           2.12e-13\n",
      "Time:                        11:31:16   Log-Likelihood:                -143.94\n",
      "No. Observations:                 156   AIC:                             291.9\n",
      "Df Residuals:                     154   BIC:                             298.0\n",
      "Df Model:                           1                                         \n",
      "Covariance Type:            nonrobust                                         \n",
      "==============================================================================\n",
      "                 coef    std err          t      P>|t|      [0.025      0.975]\n",
      "------------------------------------------------------------------------------\n",
      "const         71.1260      0.049   1440.184      0.000      71.028      71.224\n",
      "Avg_SG_Tee    -1.2723      0.158     -8.047      0.000      -1.585      -0.960\n",
      "==============================================================================\n",
      "Omnibus:                        8.827   Durbin-Watson:                   2.051\n",
      "Prob(Omnibus):                  0.012   Jarque-Bera (JB):                8.923\n",
      "Skew:                           0.489   Prob(JB):                       0.0115\n",
      "Kurtosis:                       3.647   Cond. No.                         3.23\n",
      "==============================================================================\n",
      "\n",
      "Notes:\n",
      "[1] Standard Errors assume that the covariance matrix of the errors is correctly specified.\n"
     ]
    }
   ],
   "source": [
    "fit_n_run(X_train['Avg_SG_Tee'], y_train)"
   ]
  },
  {
   "cell_type": "code",
   "execution_count": null,
   "metadata": {},
   "outputs": [],
   "source": []
  }
 ],
 "metadata": {
  "kernelspec": {
   "display_name": "Python 3",
   "language": "python",
   "name": "python3"
  },
  "language_info": {
   "codemirror_mode": {
    "name": "ipython",
    "version": 3
   },
   "file_extension": ".py",
   "mimetype": "text/x-python",
   "name": "python",
   "nbconvert_exporter": "python",
   "pygments_lexer": "ipython3",
   "version": "3.8.5"
  }
 },
 "nbformat": 4,
 "nbformat_minor": 4
}
